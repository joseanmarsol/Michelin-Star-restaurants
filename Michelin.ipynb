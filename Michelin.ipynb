{
 "cells": [
  {
   "cell_type": "code",
   "execution_count": 43,
   "metadata": {},
   "outputs": [],
   "source": [
    "# The needed modules are imported\n",
    "from bs4 import BeautifulSoup\n",
    "import requests\n",
    "import pandas as pd"
   ]
  },
  {
   "cell_type": "code",
   "execution_count": 44,
   "metadata": {},
   "outputs": [],
   "source": [
    "# We define a list of numbers of pages which is the number of pages which the web has. \n",
    "# Then these integers are converted to integers to append them later to the url\n",
    "pages = [str(int) for int in list(range(1,159))]\n",
    "\n",
    "# Empty lists are difned to append later to them the information obtained via scrapping\n",
    "name = []\n",
    "country = []\n",
    "city = []\n",
    "michelin_stars = []\n",
    "cuisine = []\n",
    "\n",
    "# First iteration: through the different pages, which are appended to the url in the first line (requests.get())\n",
    "for page_number in pages:\n",
    "    \n",
    "    html_text = requests.get('https://guide.michelin.com/en/restaurants/1-star-michelin/2-stars-michelin/3-stars-michelin/page/'+ page_number).text\n",
    "    soup = BeautifulSoup(html_text, 'lxml') # The html text is parsed\n",
    "    restaurants = soup.find_all('div', class_ = 'col-md-6 col-lg-6 col-xl-3') # The html extract for the restaurant is retrieved\n",
    "    \n",
    "    # Second iteration: we iterate through all the found restaurant html extracts\n",
    "    for restaurant in restaurants:\n",
    "        \n",
    "        # For each restaurant html extract we search for the name, country, city, number of stars and style\n",
    "        # For a few of the text entries we need to strip preceding and succeeding blanks, as well as new empty lines\n",
    "        restaurant_name = restaurant.find('h3').a.text.replace('\\n','').rstrip(' ').lstrip(' ')\n",
    "        restaurant_country = restaurant.find('div', class_ = 'card__menu-content--rating d-flex pl-text').span.text.replace('\\n','').rstrip(' ').lstrip(' ')\n",
    "        restaurant_city = restaurant.find('div', class_ = 'card__menu-footer--location flex-fill pl-text').text.replace('\\n','').rstrip(' ').lstrip(' ')\n",
    "        number_of_stars = restaurant.find('i', class_ = 'fa-michelin').text\n",
    "        restaurant_style = restaurant.find('div', class_ = 'card__menu-footer--price pl-text').text.replace('\\n','').rstrip(' ').lstrip(' ')\n",
    "        \n",
    "        # The retrieved info is appended to the empty lists\n",
    "        name.append(restaurant_name)\n",
    "        country.append(restaurant_country)\n",
    "        city.append(restaurant_city)\n",
    "        michelin_stars.append(number_of_stars)\n",
    "        cuisine.append(restaurant_style)\n"
   ]
  },
  {
   "cell_type": "code",
   "execution_count": 62,
   "metadata": {},
   "outputs": [
    {
     "data": {
      "text/plain": [
       "array(['Japanese', 'French', 'Fugu / Pufferfish', 'Spanish', 'Italian',\n",
       "       'Innovative', 'Steakhouse', 'Oden', 'Tempura', 'Yakitori', 'Sushi',\n",
       "       'Soba', 'Chinese', 'Italian, Italian', 'French, French',\n",
       "       'Beef Specialities', 'Modern Cuisine, Modern Cuisine',\n",
       "       'Creative, Creative', 'Russian, Russian', 'Seafood, Seafood',\n",
       "       'Modern Cuisine', 'American, American',\n",
       "       'Contemporary, Contemporary', 'Indian, Indian',\n",
       "       'Japanese, Japanese', 'Portuguese, Portuguese', 'Contemporary',\n",
       "       'Californian', 'Californian, Californian', 'Seafood',\n",
       "       'Chinese, Chinese', 'Steakhouse, Steakhouse', 'Asian, Asian',\n",
       "       'Moroccan, Moroccan', 'Thai, Thai', 'Mexican, Mexican',\n",
       "       'Market Cuisine', 'Creative', 'Cantonese', 'Chao Zhou',\n",
       "       'European Contemporary', 'Dim Sum', 'Sichuan',\n",
       "       'French Contemporary', 'Classic Cuisine', 'Scandinavian',\n",
       "       'Finnish, Finnish', 'Modern French, Modern French',\n",
       "       'Italian Contemporary, Italian Contemporary',\n",
       "       'Mediterranean Cuisine, Mediterranean Cuisine',\n",
       "       'Hungarian, Hungarian', 'Hungarian', 'Italian Contemporary',\n",
       "       'Barbecue', 'Cantonese, Cantonese', 'Street Food', 'Fujian',\n",
       "       'Japanese Contemporary', 'Teochew', 'Basque',\n",
       "       'British Contemporary', 'Peranakan', 'Spanish Contemporary',\n",
       "       'Hang Zhou', 'Asian Contemporary', 'Taiwanese',\n",
       "       'Huaiyang, Huaiyang', 'Fusion', 'Mexican', 'Korean, Korean',\n",
       "       'Austrian, Austrian', 'Spanish, Spanish', 'American',\n",
       "       'Scandinavian, Scandinavian', 'Korean', 'European, European',\n",
       "       'Mediterranean Cuisine', 'Middle Eastern, Middle Eastern',\n",
       "       'Colombian, Colombian', 'Modern French', 'Asian Influences',\n",
       "       'Regional Cuisine', 'Creative French', 'Organic, Organic',\n",
       "       'Market Cuisine, Market Cuisine',\n",
       "       'Country cooking, Country cooking', 'Organic', 'World Cuisine',\n",
       "       'Creative French, Creative French', 'Classic French',\n",
       "       'French Contemporary, French Contemporary',\n",
       "       'Classic Cuisine, Classic Cuisine',\n",
       "       'Classic French, Classic French', 'Vegetarian',\n",
       "       'International, International',\n",
       "       'Regional Cuisine, Regional Cuisine', 'Innovative, Innovative',\n",
       "       'Seasonal Cuisine, Seasonal Cuisine', 'Israeli, Israeli',\n",
       "       'Country cooking', 'Vegan, Vegan', 'Thai', 'Fusion, Fusion',\n",
       "       'Traditional Cuisine', 'Tuscan', 'Vegetarian, Vegetarian',\n",
       "       'Japanese Contemporary, Japanese Contemporary', 'International',\n",
       "       'Sharing, Sharing', 'Indian', 'Hunanese, Hunanese',\n",
       "       'Beijing Cuisine, Beijing Cuisine', 'Shanghainese', 'Taizhou',\n",
       "       'Cantonese Roast Meats', 'Zhejiang', 'Noodles and Congee',\n",
       "       'Traditional British',\n",
       "       'British Contemporary, British Contemporary', 'Creative British',\n",
       "       'Modern British', 'Modern British, Modern British',\n",
       "       'Creative British, Creative British', 'Scottish, Scottish',\n",
       "       'Greek', 'Traditional Cuisine, Traditional Cuisine', 'Provençal',\n",
       "       'Peruvian', 'Vegan', 'Corsican, Corsican', 'Danish',\n",
       "       'World Cuisine, World Cuisine', 'Meats and Grills',\n",
       "       'Home Cooking, Home Cooking', 'Asian Influences, Asian Influences',\n",
       "       'Southern Thai', 'Thai contemporary', 'Portuguese', 'Galician',\n",
       "       'Catalan, Catalan', 'Ramen', 'Shojin', 'Izakaya', 'Sukiyaki',\n",
       "       'Unagi / Freshwater Eel', 'Crab Specialities', 'Emilian',\n",
       "       'Tuscan, Tuscan', 'Apulian', 'Campanian, Campanian',\n",
       "       'Piedmontese, Piedmontese', 'Venetian', 'Piedmontese',\n",
       "       'Asian Contemporary, Asian Contemporary',\n",
       "       'Cuisine from Abruzzo, Cuisine from Abruzzo',\n",
       "       'Cuisine from Abruzzo', 'Beijing Cuisine', 'Chinese Contemporary',\n",
       "       'Dongbei', 'Shandong', 'Jiangzhe', 'Huaiyang', 'Hunanese',\n",
       "       'Ningbo'], dtype=object)"
      ]
     },
     "execution_count": 62,
     "metadata": {},
     "output_type": "execute_result"
    }
   ],
   "source": [
    "# dictionary of lists is defined\n",
    "dict = {'Name': name, 'Country': country, 'City': city, 'Michelin_stars': michelin_stars, 'Cuisine': cuisine} \n",
    "\n",
    "# The dictionary is used to create a dataframe\n",
    "michelin_restaurants = pd.DataFrame(dict)\n",
    "    \n",
    "michelin_restaurants.Cuisine.unique()"
   ]
  },
  {
   "cell_type": "code",
   "execution_count": 51,
   "metadata": {},
   "outputs": [],
   "source": [
    "# The datframe is exported as csv\n",
    "michelin_restaurants.to_csv(r'C:\\Users\\josea\\Michelin restaurants\\Michelin_restaurants.csv')\n"
   ]
  },
  {
   "cell_type": "code",
   "execution_count": null,
   "metadata": {},
   "outputs": [],
   "source": []
  }
 ],
 "metadata": {
  "kernelspec": {
   "display_name": "Python 3",
   "language": "python",
   "name": "python3"
  },
  "language_info": {
   "codemirror_mode": {
    "name": "ipython",
    "version": 3
   },
   "file_extension": ".py",
   "mimetype": "text/x-python",
   "name": "python",
   "nbconvert_exporter": "python",
   "pygments_lexer": "ipython3",
   "version": "3.7.6"
  }
 },
 "nbformat": 4,
 "nbformat_minor": 4
}
